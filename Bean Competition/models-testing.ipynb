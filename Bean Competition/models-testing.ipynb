{
 "cells": [
  {
   "cell_type": "markdown",
   "id": "4d6c6bd3",
   "metadata": {
    "papermill": {
     "duration": 0.026737,
     "end_time": "2021-09-23T23:23:15.123315",
     "exception": false,
     "start_time": "2021-09-23T23:23:15.096578",
     "status": "completed"
    },
    "tags": []
   },
   "source": [
    "## **Importing Libraries:**"
   ]
  },
  {
   "cell_type": "code",
   "execution_count": 1,
   "id": "939cc23a",
   "metadata": {
    "execution": {
     "iopub.execute_input": "2021-09-23T23:23:15.187527Z",
     "iopub.status.busy": "2021-09-23T23:23:15.183143Z",
     "iopub.status.idle": "2021-09-23T23:23:16.784496Z",
     "shell.execute_reply": "2021-09-23T23:23:16.785019Z",
     "shell.execute_reply.started": "2021-09-23T22:25:06.424138Z"
    },
    "papermill": {
     "duration": 1.635657,
     "end_time": "2021-09-23T23:23:16.785329",
     "exception": false,
     "start_time": "2021-09-23T23:23:15.149672",
     "status": "completed"
    },
    "tags": []
   },
   "outputs": [],
   "source": [
    "#Basic Libraries:\n",
    "import matplotlib.pyplot as plt\n",
    "import numpy as np\n",
    "import pandas as pd\n",
    "import seaborn as sns\n",
    "\n",
    "#Utiliteis:\n",
    "from sklearn.model_selection import train_test_split\n",
    "from sklearn.metrics import plot_confusion_matrix, classification_report, f1_score\n",
    "from sklearn.preprocessing import StandardScaler\n",
    "\n",
    "#Classification Models:\n",
    "from sklearn.neighbors import KNeighborsClassifier\n",
    "from sklearn.svm import SVC\n",
    "from sklearn.tree import DecisionTreeClassifier\n",
    "from sklearn.ensemble import RandomForestClassifier, VotingClassifier, StackingClassifier\n",
    "from xgboost import XGBClassifier\n",
    "from catboost import CatBoostClassifier\n",
    "\n",
    "#Supress Warnings:\n",
    "import warnings\n",
    "warnings.filterwarnings('ignore')"
   ]
  },
  {
   "cell_type": "markdown",
   "id": "425473d7",
   "metadata": {
    "papermill": {
     "duration": 0.024779,
     "end_time": "2021-09-23T23:23:16.835242",
     "exception": false,
     "start_time": "2021-09-23T23:23:16.810463",
     "status": "completed"
    },
    "tags": []
   },
   "source": [
    "#### **Reading training and testing datasets:**"
   ]
  },
  {
   "cell_type": "code",
   "execution_count": 2,
   "id": "f1d59c48",
   "metadata": {
    "execution": {
     "iopub.execute_input": "2021-09-23T23:23:16.889757Z",
     "iopub.status.busy": "2021-09-23T23:23:16.888966Z",
     "iopub.status.idle": "2021-09-23T23:23:17.052681Z",
     "shell.execute_reply": "2021-09-23T23:23:17.053166Z",
     "shell.execute_reply.started": "2021-09-23T23:21:13.921733Z"
    },
    "papermill": {
     "duration": 0.193122,
     "end_time": "2021-09-23T23:23:17.053382",
     "exception": false,
     "start_time": "2021-09-23T23:23:16.860260",
     "status": "completed"
    },
    "tags": []
   },
   "outputs": [
    {
     "data": {
      "text/html": [
       "<div>\n",
       "<style scoped>\n",
       "    .dataframe tbody tr th:only-of-type {\n",
       "        vertical-align: middle;\n",
       "    }\n",
       "\n",
       "    .dataframe tbody tr th {\n",
       "        vertical-align: top;\n",
       "    }\n",
       "\n",
       "    .dataframe thead th {\n",
       "        text-align: right;\n",
       "    }\n",
       "</style>\n",
       "<table border=\"1\" class=\"dataframe\">\n",
       "  <thead>\n",
       "    <tr style=\"text-align: right;\">\n",
       "      <th></th>\n",
       "      <th>Area</th>\n",
       "      <th>Perimeter</th>\n",
       "      <th>MajorAxisLength</th>\n",
       "      <th>MinorAxisLength</th>\n",
       "      <th>AspectRation</th>\n",
       "      <th>Eccentricity</th>\n",
       "      <th>ConvexArea</th>\n",
       "      <th>EquivDiameter</th>\n",
       "      <th>Extent</th>\n",
       "      <th>Solidity</th>\n",
       "      <th>roundness</th>\n",
       "      <th>Compactness</th>\n",
       "      <th>ShapeFactor1</th>\n",
       "      <th>ShapeFactor2</th>\n",
       "      <th>ShapeFactor3</th>\n",
       "      <th>ShapeFactor4</th>\n",
       "      <th>y</th>\n",
       "    </tr>\n",
       "    <tr>\n",
       "      <th>ID</th>\n",
       "      <th></th>\n",
       "      <th></th>\n",
       "      <th></th>\n",
       "      <th></th>\n",
       "      <th></th>\n",
       "      <th></th>\n",
       "      <th></th>\n",
       "      <th></th>\n",
       "      <th></th>\n",
       "      <th></th>\n",
       "      <th></th>\n",
       "      <th></th>\n",
       "      <th></th>\n",
       "      <th></th>\n",
       "      <th></th>\n",
       "      <th></th>\n",
       "      <th></th>\n",
       "    </tr>\n",
       "  </thead>\n",
       "  <tbody>\n",
       "    <tr>\n",
       "      <th>0</th>\n",
       "      <td>58238</td>\n",
       "      <td>971.303</td>\n",
       "      <td>397.202654</td>\n",
       "      <td>186.945510</td>\n",
       "      <td>2.124697</td>\n",
       "      <td>0.882317</td>\n",
       "      <td>58977</td>\n",
       "      <td>272.306674</td>\n",
       "      <td>0.604756</td>\n",
       "      <td>0.987470</td>\n",
       "      <td>0.775723</td>\n",
       "      <td>0.685561</td>\n",
       "      <td>0.006820</td>\n",
       "      <td>0.000929</td>\n",
       "      <td>0.469994</td>\n",
       "      <td>0.998595</td>\n",
       "      <td>HOROZ</td>\n",
       "    </tr>\n",
       "    <tr>\n",
       "      <th>1</th>\n",
       "      <td>44515</td>\n",
       "      <td>757.601</td>\n",
       "      <td>265.590470</td>\n",
       "      <td>213.967453</td>\n",
       "      <td>1.241266</td>\n",
       "      <td>0.592420</td>\n",
       "      <td>44780</td>\n",
       "      <td>238.071960</td>\n",
       "      <td>0.771745</td>\n",
       "      <td>0.994082</td>\n",
       "      <td>0.974620</td>\n",
       "      <td>0.896387</td>\n",
       "      <td>0.005966</td>\n",
       "      <td>0.002376</td>\n",
       "      <td>0.803510</td>\n",
       "      <td>0.997370</td>\n",
       "      <td>SEKER</td>\n",
       "    </tr>\n",
       "    <tr>\n",
       "      <th>2</th>\n",
       "      <td>31662</td>\n",
       "      <td>653.783</td>\n",
       "      <td>239.902428</td>\n",
       "      <td>168.421505</td>\n",
       "      <td>1.424417</td>\n",
       "      <td>0.712136</td>\n",
       "      <td>32034</td>\n",
       "      <td>200.781748</td>\n",
       "      <td>0.801407</td>\n",
       "      <td>0.988387</td>\n",
       "      <td>0.930853</td>\n",
       "      <td>0.836931</td>\n",
       "      <td>0.007577</td>\n",
       "      <td>0.002293</td>\n",
       "      <td>0.700453</td>\n",
       "      <td>0.997737</td>\n",
       "      <td>DERMASON</td>\n",
       "    </tr>\n",
       "    <tr>\n",
       "      <th>3</th>\n",
       "      <td>38778</td>\n",
       "      <td>734.020</td>\n",
       "      <td>268.446281</td>\n",
       "      <td>184.061923</td>\n",
       "      <td>1.458456</td>\n",
       "      <td>0.727925</td>\n",
       "      <td>39208</td>\n",
       "      <td>222.201897</td>\n",
       "      <td>0.766137</td>\n",
       "      <td>0.989033</td>\n",
       "      <td>0.904439</td>\n",
       "      <td>0.827733</td>\n",
       "      <td>0.006923</td>\n",
       "      <td>0.002005</td>\n",
       "      <td>0.685142</td>\n",
       "      <td>0.999250</td>\n",
       "      <td>DERMASON</td>\n",
       "    </tr>\n",
       "    <tr>\n",
       "      <th>4</th>\n",
       "      <td>42530</td>\n",
       "      <td>775.403</td>\n",
       "      <td>281.212824</td>\n",
       "      <td>193.236878</td>\n",
       "      <td>1.455275</td>\n",
       "      <td>0.726511</td>\n",
       "      <td>43028</td>\n",
       "      <td>232.703412</td>\n",
       "      <td>0.729816</td>\n",
       "      <td>0.988426</td>\n",
       "      <td>0.888895</td>\n",
       "      <td>0.827499</td>\n",
       "      <td>0.006612</td>\n",
       "      <td>0.001912</td>\n",
       "      <td>0.684755</td>\n",
       "      <td>0.996507</td>\n",
       "      <td>SIRA</td>\n",
       "    </tr>\n",
       "  </tbody>\n",
       "</table>\n",
       "</div>"
      ],
      "text/plain": [
       "     Area  Perimeter  MajorAxisLength  MinorAxisLength  AspectRation  \\\n",
       "ID                                                                     \n",
       "0   58238    971.303       397.202654       186.945510      2.124697   \n",
       "1   44515    757.601       265.590470       213.967453      1.241266   \n",
       "2   31662    653.783       239.902428       168.421505      1.424417   \n",
       "3   38778    734.020       268.446281       184.061923      1.458456   \n",
       "4   42530    775.403       281.212824       193.236878      1.455275   \n",
       "\n",
       "    Eccentricity  ConvexArea  EquivDiameter    Extent  Solidity  roundness  \\\n",
       "ID                                                                           \n",
       "0       0.882317       58977     272.306674  0.604756  0.987470   0.775723   \n",
       "1       0.592420       44780     238.071960  0.771745  0.994082   0.974620   \n",
       "2       0.712136       32034     200.781748  0.801407  0.988387   0.930853   \n",
       "3       0.727925       39208     222.201897  0.766137  0.989033   0.904439   \n",
       "4       0.726511       43028     232.703412  0.729816  0.988426   0.888895   \n",
       "\n",
       "    Compactness  ShapeFactor1  ShapeFactor2  ShapeFactor3  ShapeFactor4  \\\n",
       "ID                                                                        \n",
       "0      0.685561      0.006820      0.000929      0.469994      0.998595   \n",
       "1      0.896387      0.005966      0.002376      0.803510      0.997370   \n",
       "2      0.836931      0.007577      0.002293      0.700453      0.997737   \n",
       "3      0.827733      0.006923      0.002005      0.685142      0.999250   \n",
       "4      0.827499      0.006612      0.001912      0.684755      0.996507   \n",
       "\n",
       "           y  \n",
       "ID            \n",
       "0      HOROZ  \n",
       "1      SEKER  \n",
       "2   DERMASON  \n",
       "3   DERMASON  \n",
       "4       SIRA  "
      ]
     },
     "execution_count": 2,
     "metadata": {},
     "output_type": "execute_result"
    }
   ],
   "source": [
    "train_df = pd.read_csv('/kaggle/input/dry-beans-classification-iti-ai-pro-intake01/train.csv')\n",
    "train_df = train_df.set_index(\"ID\")\n",
    "test_df = pd.read_csv('/kaggle/input/dry-beans-classification-iti-ai-pro-intake01/test.csv')\n",
    "\n",
    "train_df.head()"
   ]
  },
  {
   "cell_type": "markdown",
   "id": "c1ba3fb2",
   "metadata": {
    "papermill": {
     "duration": 0.026127,
     "end_time": "2021-09-23T23:23:17.106351",
     "exception": false,
     "start_time": "2021-09-23T23:23:17.080224",
     "status": "completed"
    },
    "tags": []
   },
   "source": [
    "#### Split training dataframe into into training and validation sets:"
   ]
  },
  {
   "cell_type": "code",
   "execution_count": 3,
   "id": "8d8d9808",
   "metadata": {
    "execution": {
     "iopub.execute_input": "2021-09-23T23:23:17.161081Z",
     "iopub.status.busy": "2021-09-23T23:23:17.160414Z",
     "iopub.status.idle": "2021-09-23T23:23:17.211696Z",
     "shell.execute_reply": "2021-09-23T23:23:17.211174Z",
     "shell.execute_reply.started": "2021-09-23T23:15:31.292628Z"
    },
    "papermill": {
     "duration": 0.079588,
     "end_time": "2021-09-23T23:23:17.211834",
     "exception": false,
     "start_time": "2021-09-23T23:23:17.132246",
     "status": "completed"
    },
    "tags": []
   },
   "outputs": [
    {
     "data": {
      "text/html": [
       "<div>\n",
       "<style scoped>\n",
       "    .dataframe tbody tr th:only-of-type {\n",
       "        vertical-align: middle;\n",
       "    }\n",
       "\n",
       "    .dataframe tbody tr th {\n",
       "        vertical-align: top;\n",
       "    }\n",
       "\n",
       "    .dataframe thead th {\n",
       "        text-align: right;\n",
       "    }\n",
       "</style>\n",
       "<table border=\"1\" class=\"dataframe\">\n",
       "  <thead>\n",
       "    <tr style=\"text-align: right;\">\n",
       "      <th></th>\n",
       "      <th>Area</th>\n",
       "      <th>Perimeter</th>\n",
       "      <th>MajorAxisLength</th>\n",
       "      <th>MinorAxisLength</th>\n",
       "      <th>AspectRation</th>\n",
       "      <th>Eccentricity</th>\n",
       "      <th>ConvexArea</th>\n",
       "      <th>EquivDiameter</th>\n",
       "      <th>Extent</th>\n",
       "      <th>Solidity</th>\n",
       "      <th>roundness</th>\n",
       "      <th>Compactness</th>\n",
       "      <th>ShapeFactor1</th>\n",
       "      <th>ShapeFactor2</th>\n",
       "      <th>ShapeFactor3</th>\n",
       "      <th>ShapeFactor4</th>\n",
       "    </tr>\n",
       "    <tr>\n",
       "      <th>ID</th>\n",
       "      <th></th>\n",
       "      <th></th>\n",
       "      <th></th>\n",
       "      <th></th>\n",
       "      <th></th>\n",
       "      <th></th>\n",
       "      <th></th>\n",
       "      <th></th>\n",
       "      <th></th>\n",
       "      <th></th>\n",
       "      <th></th>\n",
       "      <th></th>\n",
       "      <th></th>\n",
       "      <th></th>\n",
       "      <th></th>\n",
       "      <th></th>\n",
       "    </tr>\n",
       "  </thead>\n",
       "  <tbody>\n",
       "    <tr>\n",
       "      <th>451</th>\n",
       "      <td>43114</td>\n",
       "      <td>823.478</td>\n",
       "      <td>336.202206</td>\n",
       "      <td>165.314818</td>\n",
       "      <td>2.033709</td>\n",
       "      <td>0.870758</td>\n",
       "      <td>43778</td>\n",
       "      <td>234.295646</td>\n",
       "      <td>0.600482</td>\n",
       "      <td>0.984833</td>\n",
       "      <td>0.798958</td>\n",
       "      <td>0.696889</td>\n",
       "      <td>0.007798</td>\n",
       "      <td>0.001135</td>\n",
       "      <td>0.485654</td>\n",
       "      <td>0.987680</td>\n",
       "    </tr>\n",
       "    <tr>\n",
       "      <th>2169</th>\n",
       "      <td>36774</td>\n",
       "      <td>704.528</td>\n",
       "      <td>260.416281</td>\n",
       "      <td>180.472203</td>\n",
       "      <td>1.442972</td>\n",
       "      <td>0.720924</td>\n",
       "      <td>37134</td>\n",
       "      <td>216.384175</td>\n",
       "      <td>0.801666</td>\n",
       "      <td>0.990305</td>\n",
       "      <td>0.931010</td>\n",
       "      <td>0.830916</td>\n",
       "      <td>0.007082</td>\n",
       "      <td>0.002082</td>\n",
       "      <td>0.690422</td>\n",
       "      <td>0.996260</td>\n",
       "    </tr>\n",
       "    <tr>\n",
       "      <th>1788</th>\n",
       "      <td>73118</td>\n",
       "      <td>1060.231</td>\n",
       "      <td>410.436491</td>\n",
       "      <td>227.469500</td>\n",
       "      <td>1.804358</td>\n",
       "      <td>0.832374</td>\n",
       "      <td>74002</td>\n",
       "      <td>305.117566</td>\n",
       "      <td>0.805974</td>\n",
       "      <td>0.988054</td>\n",
       "      <td>0.817397</td>\n",
       "      <td>0.743398</td>\n",
       "      <td>0.005613</td>\n",
       "      <td>0.001058</td>\n",
       "      <td>0.552640</td>\n",
       "      <td>0.997161</td>\n",
       "    </tr>\n",
       "    <tr>\n",
       "      <th>9676</th>\n",
       "      <td>68234</td>\n",
       "      <td>988.005</td>\n",
       "      <td>383.972464</td>\n",
       "      <td>228.175213</td>\n",
       "      <td>1.682797</td>\n",
       "      <td>0.804281</td>\n",
       "      <td>69335</td>\n",
       "      <td>294.751127</td>\n",
       "      <td>0.788103</td>\n",
       "      <td>0.984121</td>\n",
       "      <td>0.878400</td>\n",
       "      <td>0.767636</td>\n",
       "      <td>0.005627</td>\n",
       "      <td>0.001205</td>\n",
       "      <td>0.589265</td>\n",
       "      <td>0.991613</td>\n",
       "    </tr>\n",
       "    <tr>\n",
       "      <th>5694</th>\n",
       "      <td>44608</td>\n",
       "      <td>859.481</td>\n",
       "      <td>329.855779</td>\n",
       "      <td>175.167302</td>\n",
       "      <td>1.883090</td>\n",
       "      <td>0.847345</td>\n",
       "      <td>45446</td>\n",
       "      <td>238.320519</td>\n",
       "      <td>0.851948</td>\n",
       "      <td>0.981561</td>\n",
       "      <td>0.758840</td>\n",
       "      <td>0.722499</td>\n",
       "      <td>0.007395</td>\n",
       "      <td>0.001243</td>\n",
       "      <td>0.522005</td>\n",
       "      <td>0.982982</td>\n",
       "    </tr>\n",
       "  </tbody>\n",
       "</table>\n",
       "</div>"
      ],
      "text/plain": [
       "       Area  Perimeter  MajorAxisLength  MinorAxisLength  AspectRation  \\\n",
       "ID                                                                       \n",
       "451   43114    823.478       336.202206       165.314818      2.033709   \n",
       "2169  36774    704.528       260.416281       180.472203      1.442972   \n",
       "1788  73118   1060.231       410.436491       227.469500      1.804358   \n",
       "9676  68234    988.005       383.972464       228.175213      1.682797   \n",
       "5694  44608    859.481       329.855779       175.167302      1.883090   \n",
       "\n",
       "      Eccentricity  ConvexArea  EquivDiameter    Extent  Solidity  roundness  \\\n",
       "ID                                                                             \n",
       "451       0.870758       43778     234.295646  0.600482  0.984833   0.798958   \n",
       "2169      0.720924       37134     216.384175  0.801666  0.990305   0.931010   \n",
       "1788      0.832374       74002     305.117566  0.805974  0.988054   0.817397   \n",
       "9676      0.804281       69335     294.751127  0.788103  0.984121   0.878400   \n",
       "5694      0.847345       45446     238.320519  0.851948  0.981561   0.758840   \n",
       "\n",
       "      Compactness  ShapeFactor1  ShapeFactor2  ShapeFactor3  ShapeFactor4  \n",
       "ID                                                                         \n",
       "451      0.696889      0.007798      0.001135      0.485654      0.987680  \n",
       "2169     0.830916      0.007082      0.002082      0.690422      0.996260  \n",
       "1788     0.743398      0.005613      0.001058      0.552640      0.997161  \n",
       "9676     0.767636      0.005627      0.001205      0.589265      0.991613  \n",
       "5694     0.722499      0.007395      0.001243      0.522005      0.982982  "
      ]
     },
     "execution_count": 3,
     "metadata": {},
     "output_type": "execute_result"
    }
   ],
   "source": [
    "selected_features = train_df.iloc[:,0:16].columns\n",
    "\n",
    "X_train, X_val, y_train, y_val = train_test_split(train_df[selected_features],\n",
    "                                                  train_df[\"y\"],\n",
    "                                                  test_size = 0.2,\n",
    "                                                  stratify = train_df[\"y\"],\n",
    "                                                  random_state=0)\n",
    "\n",
    "X_test = test_df[selected_features]\n",
    "\n",
    "X_train.head()"
   ]
  },
  {
   "cell_type": "markdown",
   "id": "d3284af3",
   "metadata": {
    "papermill": {
     "duration": 0.026164,
     "end_time": "2021-09-23T23:23:17.264723",
     "exception": false,
     "start_time": "2021-09-23T23:23:17.238559",
     "status": "completed"
    },
    "tags": []
   },
   "source": [
    "#### Preprocessing:"
   ]
  },
  {
   "cell_type": "code",
   "execution_count": 4,
   "id": "c03a5e51",
   "metadata": {
    "execution": {
     "iopub.execute_input": "2021-09-23T23:23:17.326367Z",
     "iopub.status.busy": "2021-09-23T23:23:17.325050Z",
     "iopub.status.idle": "2021-09-23T23:23:17.353774Z",
     "shell.execute_reply": "2021-09-23T23:23:17.353122Z",
     "shell.execute_reply.started": "2021-09-23T23:21:23.269025Z"
    },
    "papermill": {
     "duration": 0.062698,
     "end_time": "2021-09-23T23:23:17.353939",
     "exception": false,
     "start_time": "2021-09-23T23:23:17.291241",
     "status": "completed"
    },
    "tags": []
   },
   "outputs": [],
   "source": [
    "#Scaling the data:\n",
    "sc = StandardScaler()\n",
    "sc.fit(X_train)\n",
    "\n",
    "\n",
    "for df in [X_train, X_val, X_test]:\n",
    "    df[selected_features] = sc.transform(df[selected_features])\n",
    "\n",
    "# X_train = pd.DataFrame(sc.transform(X_train))\n",
    "# X_val = pd.DataFrame(sc.transform(X_val))\n",
    "# X_test = pd.DataFrame(sc.transform(X_test))\n"
   ]
  },
  {
   "cell_type": "code",
   "execution_count": 5,
   "id": "ade10682",
   "metadata": {
    "execution": {
     "iopub.execute_input": "2021-09-23T23:23:17.416988Z",
     "iopub.status.busy": "2021-09-23T23:23:17.415958Z",
     "iopub.status.idle": "2021-09-23T23:23:17.474143Z",
     "shell.execute_reply": "2021-09-23T23:23:17.473528Z",
     "shell.execute_reply.started": "2021-09-23T23:21:23.594476Z"
    },
    "papermill": {
     "duration": 0.093341,
     "end_time": "2021-09-23T23:23:17.474295",
     "exception": false,
     "start_time": "2021-09-23T23:23:17.380954",
     "status": "completed"
    },
    "tags": []
   },
   "outputs": [
    {
     "data": {
      "text/html": [
       "<div>\n",
       "<style scoped>\n",
       "    .dataframe tbody tr th:only-of-type {\n",
       "        vertical-align: middle;\n",
       "    }\n",
       "\n",
       "    .dataframe tbody tr th {\n",
       "        vertical-align: top;\n",
       "    }\n",
       "\n",
       "    .dataframe thead th {\n",
       "        text-align: right;\n",
       "    }\n",
       "</style>\n",
       "<table border=\"1\" class=\"dataframe\">\n",
       "  <thead>\n",
       "    <tr style=\"text-align: right;\">\n",
       "      <th></th>\n",
       "      <th>Area</th>\n",
       "      <th>Perimeter</th>\n",
       "      <th>MajorAxisLength</th>\n",
       "      <th>MinorAxisLength</th>\n",
       "      <th>AspectRation</th>\n",
       "      <th>Eccentricity</th>\n",
       "      <th>ConvexArea</th>\n",
       "      <th>EquivDiameter</th>\n",
       "      <th>Extent</th>\n",
       "      <th>Solidity</th>\n",
       "      <th>roundness</th>\n",
       "      <th>Compactness</th>\n",
       "      <th>ShapeFactor1</th>\n",
       "      <th>ShapeFactor2</th>\n",
       "      <th>ShapeFactor3</th>\n",
       "      <th>ShapeFactor4</th>\n",
       "    </tr>\n",
       "  </thead>\n",
       "  <tbody>\n",
       "    <tr>\n",
       "      <th>count</th>\n",
       "      <td>8.667000e+03</td>\n",
       "      <td>8.667000e+03</td>\n",
       "      <td>8.667000e+03</td>\n",
       "      <td>8.667000e+03</td>\n",
       "      <td>8.667000e+03</td>\n",
       "      <td>8.667000e+03</td>\n",
       "      <td>8.667000e+03</td>\n",
       "      <td>8.667000e+03</td>\n",
       "      <td>8.667000e+03</td>\n",
       "      <td>8.667000e+03</td>\n",
       "      <td>8.667000e+03</td>\n",
       "      <td>8.667000e+03</td>\n",
       "      <td>8.667000e+03</td>\n",
       "      <td>8.667000e+03</td>\n",
       "      <td>8.667000e+03</td>\n",
       "      <td>8.667000e+03</td>\n",
       "    </tr>\n",
       "    <tr>\n",
       "      <th>mean</th>\n",
       "      <td>6.722569e-17</td>\n",
       "      <td>7.205497e-16</td>\n",
       "      <td>-9.419026e-16</td>\n",
       "      <td>2.297225e-16</td>\n",
       "      <td>-4.636369e-16</td>\n",
       "      <td>-3.277765e-16</td>\n",
       "      <td>-8.401290e-17</td>\n",
       "      <td>4.713228e-16</td>\n",
       "      <td>2.233288e-16</td>\n",
       "      <td>4.296744e-15</td>\n",
       "      <td>-9.930136e-16</td>\n",
       "      <td>1.770311e-17</td>\n",
       "      <td>-9.389067e-16</td>\n",
       "      <td>1.357580e-16</td>\n",
       "      <td>5.277370e-16</td>\n",
       "      <td>-1.397609e-14</td>\n",
       "    </tr>\n",
       "    <tr>\n",
       "      <th>std</th>\n",
       "      <td>1.000058e+00</td>\n",
       "      <td>1.000058e+00</td>\n",
       "      <td>1.000058e+00</td>\n",
       "      <td>1.000058e+00</td>\n",
       "      <td>1.000058e+00</td>\n",
       "      <td>1.000058e+00</td>\n",
       "      <td>1.000058e+00</td>\n",
       "      <td>1.000058e+00</td>\n",
       "      <td>1.000058e+00</td>\n",
       "      <td>1.000058e+00</td>\n",
       "      <td>1.000058e+00</td>\n",
       "      <td>1.000058e+00</td>\n",
       "      <td>1.000058e+00</td>\n",
       "      <td>1.000058e+00</td>\n",
       "      <td>1.000058e+00</td>\n",
       "      <td>1.000058e+00</td>\n",
       "    </tr>\n",
       "    <tr>\n",
       "      <th>min</th>\n",
       "      <td>-1.108069e+00</td>\n",
       "      <td>-1.538024e+00</td>\n",
       "      <td>-1.587567e+00</td>\n",
       "      <td>-1.616503e+00</td>\n",
       "      <td>-2.206895e+00</td>\n",
       "      <td>-5.127222e+00</td>\n",
       "      <td>-1.106403e+00</td>\n",
       "      <td>-1.547202e+00</td>\n",
       "      <td>-3.990392e+00</td>\n",
       "      <td>-1.469918e+01</td>\n",
       "      <td>-6.505081e+00</td>\n",
       "      <td>-2.526516e+00</td>\n",
       "      <td>-3.283603e+00</td>\n",
       "      <td>-1.945053e+00</td>\n",
       "      <td>-2.313505e+00</td>\n",
       "      <td>-1.098337e+01</td>\n",
       "    </tr>\n",
       "    <tr>\n",
       "      <th>25%</th>\n",
       "      <td>-5.666148e-01</td>\n",
       "      <td>-7.026042e-01</td>\n",
       "      <td>-7.717522e-01</td>\n",
       "      <td>-5.903499e-01</td>\n",
       "      <td>-6.118292e-01</td>\n",
       "      <td>-3.806279e-01</td>\n",
       "      <td>-5.695793e-01</td>\n",
       "      <td>-6.381237e-01</td>\n",
       "      <td>-6.424308e-01</td>\n",
       "      <td>-3.346045e-01</td>\n",
       "      <td>-6.739267e-01</td>\n",
       "      <td>-6.035081e-01</td>\n",
       "      <td>-5.956682e-01</td>\n",
       "      <td>-9.352204e-01</td>\n",
       "      <td>-6.259941e-01</td>\n",
       "      <td>-3.261965e-01</td>\n",
       "    </tr>\n",
       "    <tr>\n",
       "      <th>50%</th>\n",
       "      <td>-2.878137e-01</td>\n",
       "      <td>-2.861976e-01</td>\n",
       "      <td>-2.769855e-01</td>\n",
       "      <td>-2.178710e-01</td>\n",
       "      <td>-1.233667e-01</td>\n",
       "      <td>1.518021e-01</td>\n",
       "      <td>-2.898717e-01</td>\n",
       "      <td>-2.495069e-01</td>\n",
       "      <td>2.091006e-01</td>\n",
       "      <td>2.440877e-01</td>\n",
       "      <td>1.590863e-01</td>\n",
       "      <td>1.628143e-02</td>\n",
       "      <td>7.077850e-02</td>\n",
       "      <td>-2.848429e-02</td>\n",
       "      <td>-2.193566e-02</td>\n",
       "      <td>2.998556e-01</td>\n",
       "    </tr>\n",
       "    <tr>\n",
       "      <th>75%</th>\n",
       "      <td>2.810807e-01</td>\n",
       "      <td>5.660581e-01</td>\n",
       "      <td>6.538861e-01</td>\n",
       "      <td>3.297904e-01</td>\n",
       "      <td>4.979069e-01</td>\n",
       "      <td>6.428685e-01</td>\n",
       "      <td>2.835731e-01</td>\n",
       "      <td>4.450354e-01</td>\n",
       "      <td>7.525937e-01</td>\n",
       "      <td>6.167425e-01</td>\n",
       "      <td>7.295997e-01</td>\n",
       "      <td>5.569384e-01</td>\n",
       "      <td>6.314613e-01</td>\n",
       "      <td>7.576413e-01</td>\n",
       "      <td>5.289523e-01</td>\n",
       "      <td>6.582498e-01</td>\n",
       "    </tr>\n",
       "    <tr>\n",
       "      <th>max</th>\n",
       "      <td>6.737283e+00</td>\n",
       "      <td>4.974245e+00</td>\n",
       "      <td>4.869954e+00</td>\n",
       "      <td>5.523757e+00</td>\n",
       "      <td>3.302596e+00</td>\n",
       "      <td>1.720043e+00</td>\n",
       "      <td>6.811125e+00</td>\n",
       "      <td>5.272394e+00</td>\n",
       "      <td>2.372660e+00</td>\n",
       "      <td>1.625571e+00</td>\n",
       "      <td>1.977944e+00</td>\n",
       "      <td>2.924640e+00</td>\n",
       "      <td>2.954444e+00</td>\n",
       "      <td>3.128542e+00</td>\n",
       "      <td>3.204365e+00</td>\n",
       "      <td>1.081323e+00</td>\n",
       "    </tr>\n",
       "  </tbody>\n",
       "</table>\n",
       "</div>"
      ],
      "text/plain": [
       "               Area     Perimeter  MajorAxisLength  MinorAxisLength  \\\n",
       "count  8.667000e+03  8.667000e+03     8.667000e+03     8.667000e+03   \n",
       "mean   6.722569e-17  7.205497e-16    -9.419026e-16     2.297225e-16   \n",
       "std    1.000058e+00  1.000058e+00     1.000058e+00     1.000058e+00   \n",
       "min   -1.108069e+00 -1.538024e+00    -1.587567e+00    -1.616503e+00   \n",
       "25%   -5.666148e-01 -7.026042e-01    -7.717522e-01    -5.903499e-01   \n",
       "50%   -2.878137e-01 -2.861976e-01    -2.769855e-01    -2.178710e-01   \n",
       "75%    2.810807e-01  5.660581e-01     6.538861e-01     3.297904e-01   \n",
       "max    6.737283e+00  4.974245e+00     4.869954e+00     5.523757e+00   \n",
       "\n",
       "       AspectRation  Eccentricity    ConvexArea  EquivDiameter        Extent  \\\n",
       "count  8.667000e+03  8.667000e+03  8.667000e+03   8.667000e+03  8.667000e+03   \n",
       "mean  -4.636369e-16 -3.277765e-16 -8.401290e-17   4.713228e-16  2.233288e-16   \n",
       "std    1.000058e+00  1.000058e+00  1.000058e+00   1.000058e+00  1.000058e+00   \n",
       "min   -2.206895e+00 -5.127222e+00 -1.106403e+00  -1.547202e+00 -3.990392e+00   \n",
       "25%   -6.118292e-01 -3.806279e-01 -5.695793e-01  -6.381237e-01 -6.424308e-01   \n",
       "50%   -1.233667e-01  1.518021e-01 -2.898717e-01  -2.495069e-01  2.091006e-01   \n",
       "75%    4.979069e-01  6.428685e-01  2.835731e-01   4.450354e-01  7.525937e-01   \n",
       "max    3.302596e+00  1.720043e+00  6.811125e+00   5.272394e+00  2.372660e+00   \n",
       "\n",
       "           Solidity     roundness   Compactness  ShapeFactor1  ShapeFactor2  \\\n",
       "count  8.667000e+03  8.667000e+03  8.667000e+03  8.667000e+03  8.667000e+03   \n",
       "mean   4.296744e-15 -9.930136e-16  1.770311e-17 -9.389067e-16  1.357580e-16   \n",
       "std    1.000058e+00  1.000058e+00  1.000058e+00  1.000058e+00  1.000058e+00   \n",
       "min   -1.469918e+01 -6.505081e+00 -2.526516e+00 -3.283603e+00 -1.945053e+00   \n",
       "25%   -3.346045e-01 -6.739267e-01 -6.035081e-01 -5.956682e-01 -9.352204e-01   \n",
       "50%    2.440877e-01  1.590863e-01  1.628143e-02  7.077850e-02 -2.848429e-02   \n",
       "75%    6.167425e-01  7.295997e-01  5.569384e-01  6.314613e-01  7.576413e-01   \n",
       "max    1.625571e+00  1.977944e+00  2.924640e+00  2.954444e+00  3.128542e+00   \n",
       "\n",
       "       ShapeFactor3  ShapeFactor4  \n",
       "count  8.667000e+03  8.667000e+03  \n",
       "mean   5.277370e-16 -1.397609e-14  \n",
       "std    1.000058e+00  1.000058e+00  \n",
       "min   -2.313505e+00 -1.098337e+01  \n",
       "25%   -6.259941e-01 -3.261965e-01  \n",
       "50%   -2.193566e-02  2.998556e-01  \n",
       "75%    5.289523e-01  6.582498e-01  \n",
       "max    3.204365e+00  1.081323e+00  "
      ]
     },
     "execution_count": 5,
     "metadata": {},
     "output_type": "execute_result"
    }
   ],
   "source": [
    "X_train.describe()"
   ]
  },
  {
   "cell_type": "markdown",
   "id": "8c0db3f8",
   "metadata": {
    "papermill": {
     "duration": 0.026884,
     "end_time": "2021-09-23T23:23:17.528432",
     "exception": false,
     "start_time": "2021-09-23T23:23:17.501548",
     "status": "completed"
    },
    "tags": []
   },
   "source": [
    "#### Model Testing:"
   ]
  },
  {
   "cell_type": "code",
   "execution_count": 6,
   "id": "7075f2f1",
   "metadata": {
    "execution": {
     "iopub.execute_input": "2021-09-23T23:23:17.593207Z",
     "iopub.status.busy": "2021-09-23T23:23:17.592244Z",
     "iopub.status.idle": "2021-09-23T23:23:17.595416Z",
     "shell.execute_reply": "2021-09-23T23:23:17.594880Z",
     "shell.execute_reply.started": "2021-09-23T22:25:48.992203Z"
    },
    "papermill": {
     "duration": 0.039619,
     "end_time": "2021-09-23T23:23:17.595553",
     "exception": false,
     "start_time": "2021-09-23T23:23:17.555934",
     "status": "completed"
    },
    "tags": []
   },
   "outputs": [],
   "source": [
    "#Estimate model performance:\n",
    "def estimate_model(model, X_train, y_train, X_val, y_val):\n",
    "    y_pred_train = model.predict(X_train)\n",
    "    y_pred_val = model.predict(X_val)\n",
    "    \n",
    "    print(f\"  Training set Accuracy   = {model.score(X_train, y_train):.4%}\\n  Validation set Accuracy = {model.score(X_val, y_val):.4%}\\n\")\n",
    "    print(\"  Validation set Classification Report:\")\n",
    "    print(classification_report(y_val, y_pred_val, digits=4))\n",
    "    \n",
    "    fig, ax = plt.subplots(1, 2, figsize = (15, 5))\n",
    "    ax[0].set_title(\"Training Set Confusion Matrix\")\n",
    "    plot_confusion_matrix(model, X_train, y_train, ax=ax[0], \n",
    "                          cmap=\"cividis\", xticks_rotation=\"vertical\")\n",
    "    \n",
    "    ax[1].set_title(\"Validation Set Confusion Matrix\")\n",
    "    plot_confusion_matrix(model, X_val, y_val, ax=ax[1],\n",
    "                          cmap=\"cividis\", xticks_rotation=\"vertical\")\n",
    "    \n",
    "    \n",
    "#View the most predictive features from any tree-based model:\n",
    "def feature_importance(model):\n",
    "    importance = pd.DataFrame(model.feature_importances_, index= X_train.columns).sort_values(0)\n",
    "    importance.plot(kind='barh', title=\"Feature Importance\"), plt.show()"
   ]
  },
  {
   "cell_type": "markdown",
   "id": "2d42ec74",
   "metadata": {
    "papermill": {
     "duration": 0.027383,
     "end_time": "2021-09-23T23:23:17.649958",
     "exception": false,
     "start_time": "2021-09-23T23:23:17.622575",
     "status": "completed"
    },
    "tags": []
   },
   "source": [
    "#### 1. Support Vector Machine:"
   ]
  },
  {
   "cell_type": "code",
   "execution_count": 7,
   "id": "90a3c37f",
   "metadata": {
    "execution": {
     "iopub.execute_input": "2021-09-23T23:23:17.711949Z",
     "iopub.status.busy": "2021-09-23T23:23:17.709598Z",
     "iopub.status.idle": "2021-09-23T23:23:22.213062Z",
     "shell.execute_reply": "2021-09-23T23:23:22.213558Z",
     "shell.execute_reply.started": "2021-09-23T23:01:18.815419Z"
    },
    "papermill": {
     "duration": 4.536696,
     "end_time": "2021-09-23T23:23:22.213741",
     "exception": false,
     "start_time": "2021-09-23T23:23:17.677045",
     "status": "completed"
    },
    "tags": []
   },
   "outputs": [
    {
     "name": "stdout",
     "output_type": "stream",
     "text": [
      "\u001b[1mSupport Vector Classifier:\u001b[0m\n",
      "  Training set Accuracy   = 93.6310%\n",
      "  Validation set Accuracy = 93.2626%\n",
      "\n",
      "  Validation set Classification Report:\n",
      "              precision    recall  f1-score   support\n",
      "\n",
      "    BARBUNYA     0.9353    0.8910    0.9126       211\n",
      "      BOMBAY     1.0000    1.0000    1.0000        84\n",
      "        CALI     0.9323    0.9502    0.9412       261\n",
      "    DERMASON     0.9262    0.9295    0.9278       567\n",
      "       HOROZ     0.9795    0.9597    0.9695       298\n",
      "       SEKER     0.9715    0.9475    0.9594       324\n",
      "        SIRA     0.8679    0.9028    0.8850       422\n",
      "\n",
      "    accuracy                         0.9326      2167\n",
      "   macro avg     0.9447    0.9401    0.9422      2167\n",
      "weighted avg     0.9334    0.9326    0.9329      2167\n",
      "\n"
     ]
    },
    {
     "data": {
      "image/png": "[encoded data removed]",
      "text/plain": [
       "<Figure size 1080x360 with 4 Axes>"
      ]
     },
     "metadata": {
      "needs_background": "light"
     },
     "output_type": "display_data"
    }
   ],
   "source": [
    "print(\"\\033[1mSupport Vector Classifier:\\033[0m\")\n",
    "model = SVC(C=11,\n",
    "            kernel=\"rbf\",\n",
    "            gamma=\"scale\",\n",
    "            break_ties=True,\n",
    "#             class_weight='balanced',\n",
    "            random_state=0)\n",
    "\n",
    "\n",
    "model.fit(X_train, y_train)\n",
    "estimate_model(model, X_train, y_train, X_val, y_val)"
   ]
  },
  {
   "cell_type": "markdown",
   "id": "f34b0240",
   "metadata": {
    "papermill": {
     "duration": 0.02963,
     "end_time": "2021-09-23T23:23:22.273418",
     "exception": false,
     "start_time": "2021-09-23T23:23:22.243788",
     "status": "completed"
    },
    "tags": []
   },
   "source": [
    "#### 2. K-Nearest Neighbour:"
   ]
  },
  {
   "cell_type": "code",
   "execution_count": 8,
   "id": "facfcb08",
   "metadata": {
    "execution": {
     "iopub.execute_input": "2021-09-23T23:23:22.338025Z",
     "iopub.status.busy": "2021-09-23T23:23:22.337293Z",
     "iopub.status.idle": "2021-09-23T23:23:22.340520Z",
     "shell.execute_reply": "2021-09-23T23:23:22.339959Z",
     "shell.execute_reply.started": "2021-09-23T22:30:52.548657Z"
    },
    "papermill": {
     "duration": 0.037049,
     "end_time": "2021-09-23T23:23:22.340662",
     "exception": false,
     "start_time": "2021-09-23T23:23:22.303613",
     "status": "completed"
    },
    "tags": []
   },
   "outputs": [],
   "source": [
    "# print(\"\\033[1mK-Nearest Neighbour Classifier:\\033[0m\")\n",
    "# model = KNeighborsClassifier(n_neighbors=50,\n",
    "#                              p=3,\n",
    "#                              weights=\"distance\",\n",
    "#                              metric=\"minkowski\",\n",
    "#                              n_jobs=-1)\n",
    "\n",
    "# model.fit(X_train, y_train)\n",
    "# estimate_model(model, X_train, y_train, X_val, y_val)"
   ]
  },
  {
   "cell_type": "markdown",
   "id": "93cc8d77",
   "metadata": {
    "papermill": {
     "duration": 0.02951,
     "end_time": "2021-09-23T23:23:22.400398",
     "exception": false,
     "start_time": "2021-09-23T23:23:22.370888",
     "status": "completed"
    },
    "tags": []
   },
   "source": [
    "#### 3. Decision Tree Classifier:"
   ]
  },
  {
   "cell_type": "code",
   "execution_count": 9,
   "id": "d565fc45",
   "metadata": {
    "execution": {
     "iopub.execute_input": "2021-09-23T23:23:22.464418Z",
     "iopub.status.busy": "2021-09-23T23:23:22.463738Z",
     "iopub.status.idle": "2021-09-23T23:23:22.466313Z",
     "shell.execute_reply": "2021-09-23T23:23:22.466773Z",
     "shell.execute_reply.started": "2021-09-23T22:30:51.068492Z"
    },
    "papermill": {
     "duration": 0.036824,
     "end_time": "2021-09-23T23:23:22.466947",
     "exception": false,
     "start_time": "2021-09-23T23:23:22.430123",
     "status": "completed"
    },
    "tags": []
   },
   "outputs": [],
   "source": [
    "# print(\"\\033[1mDecision Tree Classifier:\\033[0m\")\n",
    "# model = DecisionTreeClassifier(criterion=\"entropy\",\n",
    "#                                splitter=\"best\",\n",
    "#                                max_depth=6,\n",
    "#                                min_samples_split=5,\n",
    "#                                random_state=0)\n",
    "\n",
    "# model.fit(X_train, y_train)\n",
    "# estimate_model(model, X_train, y_train, X_val, y_val)"
   ]
  },
  {
   "cell_type": "markdown",
   "id": "bca9595d",
   "metadata": {
    "papermill": {
     "duration": 0.029354,
     "end_time": "2021-09-23T23:23:22.526087",
     "exception": false,
     "start_time": "2021-09-23T23:23:22.496733",
     "status": "completed"
    },
    "tags": []
   },
   "source": [
    "#### 4. Random Forest Classifier:"
   ]
  },
  {
   "cell_type": "code",
   "execution_count": 10,
   "id": "81f7ffb4",
   "metadata": {
    "execution": {
     "iopub.execute_input": "2021-09-23T23:23:22.588818Z",
     "iopub.status.busy": "2021-09-23T23:23:22.588119Z",
     "iopub.status.idle": "2021-09-23T23:23:22.592897Z",
     "shell.execute_reply": "2021-09-23T23:23:22.592378Z",
     "shell.execute_reply.started": "2021-09-23T22:30:28.061824Z"
    },
    "papermill": {
     "duration": 0.037325,
     "end_time": "2021-09-23T23:23:22.593039",
     "exception": false,
     "start_time": "2021-09-23T23:23:22.555714",
     "status": "completed"
    },
    "tags": []
   },
   "outputs": [],
   "source": [
    "# print(\"\\033[1mRandom Forest Classifier:\\033[0m\")\n",
    "# model = RandomForestClassifier(n_estimators=1000,\n",
    "#                                criterion=\"entropy\",\n",
    "#                                max_depth=6,\n",
    "#                                min_samples_split=10,\n",
    "#                                bootstrap=True,\n",
    "#                                max_samples=0.8,\n",
    "#                                oob_score=True,\n",
    "#                                n_jobs=-1,\n",
    "#                                random_state=0)\n",
    "\n",
    "# model.fit(X_train, y_train)\n",
    "# estimate_model(model, X_train, y_train, X_val, y_val)\n",
    "# feature_importance(model)"
   ]
  },
  {
   "cell_type": "markdown",
   "id": "77be416f",
   "metadata": {
    "papermill": {
     "duration": 0.030291,
     "end_time": "2021-09-23T23:23:22.652959",
     "exception": false,
     "start_time": "2021-09-23T23:23:22.622668",
     "status": "completed"
    },
    "tags": []
   },
   "source": [
    "#### 4. Voting Classifier:"
   ]
  },
  {
   "cell_type": "code",
   "execution_count": 11,
   "id": "50ad08e6",
   "metadata": {
    "execution": {
     "iopub.execute_input": "2021-09-23T23:23:22.716510Z",
     "iopub.status.busy": "2021-09-23T23:23:22.715821Z",
     "iopub.status.idle": "2021-09-23T23:23:22.719655Z",
     "shell.execute_reply": "2021-09-23T23:23:22.720251Z",
     "shell.execute_reply.started": "2021-09-17T21:25:59.940512Z"
    },
    "papermill": {
     "duration": 0.037848,
     "end_time": "2021-09-23T23:23:22.720440",
     "exception": false,
     "start_time": "2021-09-23T23:23:22.682592",
     "status": "completed"
    },
    "tags": []
   },
   "outputs": [],
   "source": [
    "# print(\"\\033[1mVoting Classifier:\\033[0m\")\n",
    "# svc = SVC(C=1,\n",
    "#           kernel=\"rbf\",\n",
    "#           gamma=\"scale\",\n",
    "#           probability=True,\n",
    "#           break_ties=True,\n",
    "#           random_state=0)\n",
    "# knn = KNeighborsClassifier(n_neighbors=50,\n",
    "#                            p=3,\n",
    "#                            weights=\"distance\",\n",
    "#                            n_jobs=-1)\n",
    "# rf = RandomForestClassifier(n_estimators=1000,\n",
    "#                             criterion=\"entropy\",\n",
    "#                             max_depth=6,\n",
    "#                             min_samples_split=10,\n",
    "#                             bootstrap=True,\n",
    "#                             max_samples=0.8,\n",
    "#                             oob_score=True,\n",
    "#                             n_jobs=-1,\n",
    "#                             random_state=0)\n",
    "\n",
    "# model = VotingClassifier([(\"SVC\", svc),(\"KNN\",knn),(\"RF\",rf)],\n",
    "#                          voting=\"soft\",\n",
    "#                          n_jobs=-1)\n",
    "\n",
    "# model.fit(X_train, y_train)\n",
    "# estimate_model(model, X_train, y_train, X_val, y_val)"
   ]
  },
  {
   "cell_type": "markdown",
   "id": "81929e8f",
   "metadata": {
    "papermill": {
     "duration": 0.029137,
     "end_time": "2021-09-23T23:23:22.779785",
     "exception": false,
     "start_time": "2021-09-23T23:23:22.750648",
     "status": "completed"
    },
    "tags": []
   },
   "source": [
    "#### 5.XGB Classifier:"
   ]
  },
  {
   "cell_type": "code",
   "execution_count": 12,
   "id": "e31f8029",
   "metadata": {
    "execution": {
     "iopub.execute_input": "2021-09-23T23:23:22.842299Z",
     "iopub.status.busy": "2021-09-23T23:23:22.841638Z",
     "iopub.status.idle": "2021-09-23T23:23:22.845327Z",
     "shell.execute_reply": "2021-09-23T23:23:22.845840Z",
     "shell.execute_reply.started": "2021-09-23T17:15:40.030217Z"
    },
    "papermill": {
     "duration": 0.036683,
     "end_time": "2021-09-23T23:23:22.846025",
     "exception": false,
     "start_time": "2021-09-23T23:23:22.809342",
     "status": "completed"
    },
    "tags": []
   },
   "outputs": [],
   "source": [
    "# print(\"\\033[1mXGB Classifier:\\033[0m\")\n",
    "# model = XGBClassifier(n_estimators=125, \n",
    "#                       max_depth=10, \n",
    "#                       learning_rate=0.82,\n",
    "#                       gamma=0.1,\n",
    "#                       subsample=0.8,\n",
    "#                       reg_alpha=0.01,\n",
    "#                       reg_lambda=0.1,\n",
    "#                       booster=\"gbtree\",\n",
    "#                       n_jobs=-1,\n",
    "#                       random_state=0,\n",
    "#                       verbosity=0)\n",
    "\n",
    "# model.fit(X_train, y_train)\n",
    "# estimate_model(model, X_train, y_train, X_val, y_val)\n",
    "# feature_importance(model)"
   ]
  },
  {
   "cell_type": "markdown",
   "id": "0a78d78b",
   "metadata": {
    "papermill": {
     "duration": 0.02968,
     "end_time": "2021-09-23T23:23:22.905489",
     "exception": false,
     "start_time": "2021-09-23T23:23:22.875809",
     "status": "completed"
    },
    "tags": []
   },
   "source": [
    "#### 6. CatBoost Classifier:"
   ]
  },
  {
   "cell_type": "code",
   "execution_count": 13,
   "id": "2a58c96a",
   "metadata": {
    "execution": {
     "iopub.execute_input": "2021-09-23T23:23:22.968368Z",
     "iopub.status.busy": "2021-09-23T23:23:22.967693Z",
     "iopub.status.idle": "2021-09-23T23:23:22.971220Z",
     "shell.execute_reply": "2021-09-23T23:23:22.971705Z",
     "shell.execute_reply.started": "2021-09-23T23:05:04.062768Z"
    },
    "papermill": {
     "duration": 0.036339,
     "end_time": "2021-09-23T23:23:22.971878",
     "exception": false,
     "start_time": "2021-09-23T23:23:22.935539",
     "status": "completed"
    },
    "tags": []
   },
   "outputs": [],
   "source": [
    "# print(\"\\033[1mCatBoost Classifier:\\033[0m\")\n",
    "# model = CatBoostClassifier(loss_function=\"MultiClassOneVsAll\",\n",
    "#                            n_estimators=105,\n",
    "#                            depth=5,\n",
    "#                            learning_rate=0.2,\n",
    "#                            random_strength=10,\n",
    "#                            min_data_in_leaf=3,\n",
    "#                            l2_leaf_reg=3.5,\n",
    "#                            grow_policy=\"SymmetricTree\",\n",
    "#                            bootstrap_type=\"Bayesian\",\n",
    "#                            bagging_temperature=2,\n",
    "#                            sampling_frequency=\"PerTreeLevel\",\n",
    "#                            boosting_type=\"Ordered\",\n",
    "#                            verbose=0,\n",
    "#                            random_seed=0)\n",
    "\n",
    "# model.fit(X_train, y_train)\n",
    "# estimate_model(model, X_train, y_train, X_val, y_val)\n",
    "# feature_importance(model)"
   ]
  },
  {
   "cell_type": "markdown",
   "id": "ebdf71aa",
   "metadata": {
    "papermill": {
     "duration": 0.029395,
     "end_time": "2021-09-23T23:23:23.031050",
     "exception": false,
     "start_time": "2021-09-23T23:23:23.001655",
     "status": "completed"
    },
    "tags": []
   },
   "source": [
    "#### 7. Stacking Classifier"
   ]
  },
  {
   "cell_type": "code",
   "execution_count": 14,
   "id": "89142a73",
   "metadata": {
    "execution": {
     "iopub.execute_input": "2021-09-23T23:23:23.093994Z",
     "iopub.status.busy": "2021-09-23T23:23:23.093210Z",
     "iopub.status.idle": "2021-09-23T23:23:23.098742Z",
     "shell.execute_reply": "2021-09-23T23:23:23.098085Z",
     "shell.execute_reply.started": "2021-09-23T17:53:57.911765Z"
    },
    "papermill": {
     "duration": 0.038111,
     "end_time": "2021-09-23T23:23:23.098900",
     "exception": false,
     "start_time": "2021-09-23T23:23:23.060789",
     "status": "completed"
    },
    "tags": []
   },
   "outputs": [],
   "source": [
    "# print(\"\\033[1mStacking Classifier:\\033[0m\")\n",
    "# svc = SVC(C=1,\n",
    "#           kernel=\"rbf\",\n",
    "#           gamma=\"scale\",\n",
    "#           probability=True,\n",
    "#           break_ties=True,\n",
    "#           random_state=0)\n",
    "# knn = KNeighborsClassifier(n_neighbors=50,\n",
    "#                            p=3,\n",
    "#                            weights=\"distance\",\n",
    "#                            n_jobs=-1)\n",
    "# rf = RandomForestClassifier(n_estimators=1000,\n",
    "#                             criterion=\"entropy\",\n",
    "#                             max_depth=6,\n",
    "#                             min_samples_split=10,\n",
    "#                             bootstrap=True,\n",
    "#                             max_samples=0.8,\n",
    "#                             oob_score=True,\n",
    "#                             n_jobs=-1,\n",
    "#                             random_state=0)\n",
    "# cb = CatBoostClassifier(loss_function=\"MultiClassOneVsAll\",\n",
    "#                            n_estimators=105,\n",
    "#                            depth=5,\n",
    "#                            learning_rate=0.2,\n",
    "#                            random_strength=10,\n",
    "#                            min_data_in_leaf=3,\n",
    "#                            l2_leaf_reg=3.5,\n",
    "#                            grow_policy=\"SymmetricTree\",\n",
    "#                            bootstrap_type=\"Bayesian\",\n",
    "#                            bagging_temperature=2,\n",
    "#                            sampling_frequency=\"PerTreeLevel\",\n",
    "#                            boosting_type=\"Ordered\",\n",
    "#                            verbose=0,\n",
    "#                            random_seed=0)\n",
    "\n",
    "\n",
    "# model = StackingClassifier([(\"SVC\", svc),(\"KNN\",knn),(\"CB\",cb)],\n",
    "#                            final_estimator=rf,\n",
    "#                            n_jobs=-1)\n",
    "\n",
    "# model.fit(X_train, y_train)\n",
    "# estimate_model(model, X_train, y_train, X_val, y_val)"
   ]
  },
  {
   "cell_type": "markdown",
   "id": "edfcc47b",
   "metadata": {
    "papermill": {
     "duration": 0.029058,
     "end_time": "2021-09-23T23:23:23.157361",
     "exception": false,
     "start_time": "2021-09-23T23:23:23.128303",
     "status": "completed"
    },
    "tags": []
   },
   "source": [
    "#### **Insights:**\n",
    "##### - We can notice that all models make the same mistakes.\n",
    "##### - The mistakes occurs almost with the same frequency in both the train and validation sets, which indicates a problem in the data itself.\n",
    "##### - The most common problem is the confusion between Dermason and Sira.\n",
    "##### - Lets perform some error analysis on 1 model to see where the problem is."
   ]
  },
  {
   "cell_type": "code",
   "execution_count": 15,
   "id": "12575bad",
   "metadata": {
    "execution": {
     "iopub.execute_input": "2021-09-23T23:23:23.222023Z",
     "iopub.status.busy": "2021-09-23T23:23:23.220988Z",
     "iopub.status.idle": "2021-09-23T23:23:23.223148Z",
     "shell.execute_reply": "2021-09-23T23:23:23.223658Z",
     "shell.execute_reply.started": "2021-09-23T18:08:02.838981Z"
    },
    "papermill": {
     "duration": 0.036843,
     "end_time": "2021-09-23T23:23:23.223832",
     "exception": false,
     "start_time": "2021-09-23T23:23:23.186989",
     "status": "completed"
    },
    "tags": []
   },
   "outputs": [],
   "source": [
    "# #Support vector machine model:\n",
    "# model = SVC(C=11,\n",
    "#             kernel=\"rbf\",\n",
    "#             gamma=\"scale\",\n",
    "#             break_ties=True,\n",
    "#             random_state=0)\n",
    "# model.fit(X_train, y_train)"
   ]
  },
  {
   "cell_type": "code",
   "execution_count": 16,
   "id": "cb2a3cc8",
   "metadata": {
    "execution": {
     "iopub.execute_input": "2021-09-23T23:23:23.287904Z",
     "iopub.status.busy": "2021-09-23T23:23:23.286981Z",
     "iopub.status.idle": "2021-09-23T23:23:23.289888Z",
     "shell.execute_reply": "2021-09-23T23:23:23.289370Z",
     "shell.execute_reply.started": "2021-09-23T18:08:12.748964Z"
    },
    "papermill": {
     "duration": 0.036559,
     "end_time": "2021-09-23T23:23:23.290036",
     "exception": false,
     "start_time": "2021-09-23T23:23:23.253477",
     "status": "completed"
    },
    "tags": []
   },
   "outputs": [],
   "source": [
    "# train_df.loc[X_val.index, \"y_hat\"] = model.predict(X_val)\n",
    "# train_df.loc[X_train.index, \"y_hat\"] = model.predict(X_train)\n",
    "# mislabeled = train_df[train_df[\"y\"] != train_df[\"y_hat\"]]"
   ]
  },
  {
   "cell_type": "code",
   "execution_count": 17,
   "id": "f1892d2f",
   "metadata": {
    "execution": {
     "iopub.execute_input": "2021-09-23T23:23:23.354386Z",
     "iopub.status.busy": "2021-09-23T23:23:23.353372Z",
     "iopub.status.idle": "2021-09-23T23:23:23.356135Z",
     "shell.execute_reply": "2021-09-23T23:23:23.355590Z",
     "shell.execute_reply.started": "2021-09-23T18:08:21.405363Z"
    },
    "papermill": {
     "duration": 0.036743,
     "end_time": "2021-09-23T23:23:23.356295",
     "exception": false,
     "start_time": "2021-09-23T23:23:23.319552",
     "status": "completed"
    },
    "tags": []
   },
   "outputs": [],
   "source": [
    "# #Dermason that is mislabeled as Sira\n",
    "# derm_FN = mislabeled[(mislabeled[\"y\"] == \"DERMASON\") & (mislabeled[\"y_hat\"] == \"SIRA\")]\n",
    "# #correctly labeled Sira:\n",
    "# sira_TP = train_df[(train_df[\"y\"] == \"SIRA\") & (train_df[\"y_hat\"] == \"SIRA\")]"
   ]
  },
  {
   "cell_type": "code",
   "execution_count": 18,
   "id": "59710d90",
   "metadata": {
    "execution": {
     "iopub.execute_input": "2021-09-23T23:23:23.420750Z",
     "iopub.status.busy": "2021-09-23T23:23:23.419740Z",
     "iopub.status.idle": "2021-09-23T23:23:23.422728Z",
     "shell.execute_reply": "2021-09-23T23:23:23.422183Z",
     "shell.execute_reply.started": "2021-09-23T18:33:22.481910Z"
    },
    "papermill": {
     "duration": 0.036782,
     "end_time": "2021-09-23T23:23:23.422862",
     "exception": false,
     "start_time": "2021-09-23T23:23:23.386080",
     "status": "completed"
    },
    "tags": []
   },
   "outputs": [],
   "source": [
    "# x = \"Area\"\n",
    "# y=\"\"\n",
    "# plt.scat"
   ]
  },
  {
   "cell_type": "markdown",
   "id": "70fe3745",
   "metadata": {
    "papermill": {
     "duration": 0.029191,
     "end_time": "2021-09-23T23:23:23.481636",
     "exception": false,
     "start_time": "2021-09-23T23:23:23.452445",
     "status": "completed"
    },
    "tags": []
   },
   "source": [
    "#### Test Data:"
   ]
  },
  {
   "cell_type": "code",
   "execution_count": 19,
   "id": "f19afc3d",
   "metadata": {
    "execution": {
     "iopub.execute_input": "2021-09-23T23:23:23.543953Z",
     "iopub.status.busy": "2021-09-23T23:23:23.543309Z",
     "iopub.status.idle": "2021-09-23T23:23:23.563227Z",
     "shell.execute_reply": "2021-09-23T23:23:23.562657Z",
     "shell.execute_reply.started": "2021-09-21T16:58:23.703442Z"
    },
    "papermill": {
     "duration": 0.052215,
     "end_time": "2021-09-23T23:23:23.563375",
     "exception": false,
     "start_time": "2021-09-23T23:23:23.511160",
     "status": "completed"
    },
    "tags": []
   },
   "outputs": [
    {
     "data": {
      "text/html": [
       "<div>\n",
       "<style scoped>\n",
       "    .dataframe tbody tr th:only-of-type {\n",
       "        vertical-align: middle;\n",
       "    }\n",
       "\n",
       "    .dataframe tbody tr th {\n",
       "        vertical-align: top;\n",
       "    }\n",
       "\n",
       "    .dataframe thead th {\n",
       "        text-align: right;\n",
       "    }\n",
       "</style>\n",
       "<table border=\"1\" class=\"dataframe\">\n",
       "  <thead>\n",
       "    <tr style=\"text-align: right;\">\n",
       "      <th></th>\n",
       "      <th>Area</th>\n",
       "      <th>Perimeter</th>\n",
       "      <th>MajorAxisLength</th>\n",
       "      <th>MinorAxisLength</th>\n",
       "      <th>AspectRation</th>\n",
       "      <th>Eccentricity</th>\n",
       "      <th>ConvexArea</th>\n",
       "      <th>EquivDiameter</th>\n",
       "      <th>Extent</th>\n",
       "      <th>Solidity</th>\n",
       "      <th>roundness</th>\n",
       "      <th>Compactness</th>\n",
       "      <th>ShapeFactor1</th>\n",
       "      <th>ShapeFactor2</th>\n",
       "      <th>ShapeFactor3</th>\n",
       "      <th>ShapeFactor4</th>\n",
       "    </tr>\n",
       "  </thead>\n",
       "  <tbody>\n",
       "    <tr>\n",
       "      <th>0</th>\n",
       "      <td>0.156597</td>\n",
       "      <td>0.469163</td>\n",
       "      <td>0.789784</td>\n",
       "      <td>-0.126690</td>\n",
       "      <td>1.597629</td>\n",
       "      <td>1.214920</td>\n",
       "      <td>0.214762</td>\n",
       "      <td>0.302094</td>\n",
       "      <td>-2.650247</td>\n",
       "      <td>-6.316095</td>\n",
       "      <td>-1.356408</td>\n",
       "      <td>-1.655270</td>\n",
       "      <td>0.144302</td>\n",
       "      <td>-1.228785</td>\n",
       "      <td>-1.583939</td>\n",
       "      <td>-7.459351</td>\n",
       "    </tr>\n",
       "    <tr>\n",
       "      <th>1</th>\n",
       "      <td>-0.824428</td>\n",
       "      <td>-1.046463</td>\n",
       "      <td>-1.047372</td>\n",
       "      <td>-0.949179</td>\n",
       "      <td>-0.574812</td>\n",
       "      <td>-0.334195</td>\n",
       "      <td>-0.824037</td>\n",
       "      <td>-1.038876</td>\n",
       "      <td>0.351731</td>\n",
       "      <td>0.139747</td>\n",
       "      <td>0.610474</td>\n",
       "      <td>0.522216</td>\n",
       "      <td>1.268140</td>\n",
       "      <td>1.091397</td>\n",
       "      <td>0.492902</td>\n",
       "      <td>0.669484</td>\n",
       "    </tr>\n",
       "    <tr>\n",
       "      <th>2</th>\n",
       "      <td>0.055326</td>\n",
       "      <td>0.262095</td>\n",
       "      <td>-0.129030</td>\n",
       "      <td>0.534849</td>\n",
       "      <td>-0.888781</td>\n",
       "      <td>-0.768616</td>\n",
       "      <td>0.069951</td>\n",
       "      <td>0.182419</td>\n",
       "      <td>0.056065</td>\n",
       "      <td>-1.798259</td>\n",
       "      <td>-0.778679</td>\n",
       "      <td>0.882580</td>\n",
       "      <td>-0.809232</td>\n",
       "      <td>0.232868</td>\n",
       "      <td>0.871527</td>\n",
       "      <td>0.125017</td>\n",
       "    </tr>\n",
       "    <tr>\n",
       "      <th>3</th>\n",
       "      <td>-0.958404</td>\n",
       "      <td>-1.289180</td>\n",
       "      <td>-1.231336</td>\n",
       "      <td>-1.211841</td>\n",
       "      <td>-0.540608</td>\n",
       "      <td>-0.292297</td>\n",
       "      <td>-0.958013</td>\n",
       "      <td>-1.268216</td>\n",
       "      <td>-0.691109</td>\n",
       "      <td>0.244634</td>\n",
       "      <td>0.999155</td>\n",
       "      <td>0.487330</td>\n",
       "      <td>1.829680</td>\n",
       "      <td>1.363544</td>\n",
       "      <td>0.456775</td>\n",
       "      <td>0.817968</td>\n",
       "    </tr>\n",
       "    <tr>\n",
       "      <th>4</th>\n",
       "      <td>3.015791</td>\n",
       "      <td>2.695070</td>\n",
       "      <td>2.387047</td>\n",
       "      <td>3.212582</td>\n",
       "      <td>-0.279579</td>\n",
       "      <td>-0.001240</td>\n",
       "      <td>3.007055</td>\n",
       "      <td>2.898581</td>\n",
       "      <td>1.112302</td>\n",
       "      <td>0.021013</td>\n",
       "      <td>-0.095054</td>\n",
       "      <td>0.153474</td>\n",
       "      <td>-2.535142</td>\n",
       "      <td>-1.242720</td>\n",
       "      <td>0.115740</td>\n",
       "      <td>-0.756797</td>\n",
       "    </tr>\n",
       "  </tbody>\n",
       "</table>\n",
       "</div>"
      ],
      "text/plain": [
       "       Area  Perimeter  MajorAxisLength  MinorAxisLength  AspectRation  \\\n",
       "0  0.156597   0.469163         0.789784        -0.126690      1.597629   \n",
       "1 -0.824428  -1.046463        -1.047372        -0.949179     -0.574812   \n",
       "2  0.055326   0.262095        -0.129030         0.534849     -0.888781   \n",
       "3 -0.958404  -1.289180        -1.231336        -1.211841     -0.540608   \n",
       "4  3.015791   2.695070         2.387047         3.212582     -0.279579   \n",
       "\n",
       "   Eccentricity  ConvexArea  EquivDiameter    Extent  Solidity  roundness  \\\n",
       "0      1.214920    0.214762       0.302094 -2.650247 -6.316095  -1.356408   \n",
       "1     -0.334195   -0.824037      -1.038876  0.351731  0.139747   0.610474   \n",
       "2     -0.768616    0.069951       0.182419  0.056065 -1.798259  -0.778679   \n",
       "3     -0.292297   -0.958013      -1.268216 -0.691109  0.244634   0.999155   \n",
       "4     -0.001240    3.007055       2.898581  1.112302  0.021013  -0.095054   \n",
       "\n",
       "   Compactness  ShapeFactor1  ShapeFactor2  ShapeFactor3  ShapeFactor4  \n",
       "0    -1.655270      0.144302     -1.228785     -1.583939     -7.459351  \n",
       "1     0.522216      1.268140      1.091397      0.492902      0.669484  \n",
       "2     0.882580     -0.809232      0.232868      0.871527      0.125017  \n",
       "3     0.487330      1.829680      1.363544      0.456775      0.817968  \n",
       "4     0.153474     -2.535142     -1.242720      0.115740     -0.756797  "
      ]
     },
     "execution_count": 19,
     "metadata": {},
     "output_type": "execute_result"
    }
   ],
   "source": [
    "X_test.head()"
   ]
  },
  {
   "cell_type": "code",
   "execution_count": 20,
   "id": "a8162325",
   "metadata": {
    "execution": {
     "iopub.execute_input": "2021-09-23T23:23:23.630547Z",
     "iopub.status.busy": "2021-09-23T23:23:23.629827Z",
     "iopub.status.idle": "2021-09-23T23:23:23.860800Z",
     "shell.execute_reply": "2021-09-23T23:23:23.860098Z",
     "shell.execute_reply.started": "2021-09-21T17:03:00.714885Z"
    },
    "papermill": {
     "duration": 0.267333,
     "end_time": "2021-09-23T23:23:23.860945",
     "exception": false,
     "start_time": "2021-09-23T23:23:23.593612",
     "status": "completed"
    },
    "tags": []
   },
   "outputs": [
    {
     "data": {
      "text/html": [
       "<div>\n",
       "<style scoped>\n",
       "    .dataframe tbody tr th:only-of-type {\n",
       "        vertical-align: middle;\n",
       "    }\n",
       "\n",
       "    .dataframe tbody tr th {\n",
       "        vertical-align: top;\n",
       "    }\n",
       "\n",
       "    .dataframe thead th {\n",
       "        text-align: right;\n",
       "    }\n",
       "</style>\n",
       "<table border=\"1\" class=\"dataframe\">\n",
       "  <thead>\n",
       "    <tr style=\"text-align: right;\">\n",
       "      <th></th>\n",
       "      <th>ID</th>\n",
       "      <th>y</th>\n",
       "    </tr>\n",
       "  </thead>\n",
       "  <tbody>\n",
       "    <tr>\n",
       "      <th>0</th>\n",
       "      <td>10834</td>\n",
       "      <td>HOROZ</td>\n",
       "    </tr>\n",
       "    <tr>\n",
       "      <th>1</th>\n",
       "      <td>10835</td>\n",
       "      <td>DERMASON</td>\n",
       "    </tr>\n",
       "    <tr>\n",
       "      <th>2</th>\n",
       "      <td>10836</td>\n",
       "      <td>BARBUNYA</td>\n",
       "    </tr>\n",
       "    <tr>\n",
       "      <th>3</th>\n",
       "      <td>10837</td>\n",
       "      <td>DERMASON</td>\n",
       "    </tr>\n",
       "    <tr>\n",
       "      <th>4</th>\n",
       "      <td>10838</td>\n",
       "      <td>BOMBAY</td>\n",
       "    </tr>\n",
       "    <tr>\n",
       "      <th>...</th>\n",
       "      <td>...</td>\n",
       "      <td>...</td>\n",
       "    </tr>\n",
       "    <tr>\n",
       "      <th>2704</th>\n",
       "      <td>13538</td>\n",
       "      <td>CALI</td>\n",
       "    </tr>\n",
       "    <tr>\n",
       "      <th>2705</th>\n",
       "      <td>13539</td>\n",
       "      <td>SEKER</td>\n",
       "    </tr>\n",
       "    <tr>\n",
       "      <th>2706</th>\n",
       "      <td>13540</td>\n",
       "      <td>HOROZ</td>\n",
       "    </tr>\n",
       "    <tr>\n",
       "      <th>2707</th>\n",
       "      <td>13541</td>\n",
       "      <td>DERMASON</td>\n",
       "    </tr>\n",
       "    <tr>\n",
       "      <th>2708</th>\n",
       "      <td>13542</td>\n",
       "      <td>SIRA</td>\n",
       "    </tr>\n",
       "  </tbody>\n",
       "</table>\n",
       "<p>2709 rows × 2 columns</p>\n",
       "</div>"
      ],
      "text/plain": [
       "         ID         y\n",
       "0     10834     HOROZ\n",
       "1     10835  DERMASON\n",
       "2     10836  BARBUNYA\n",
       "3     10837  DERMASON\n",
       "4     10838    BOMBAY\n",
       "...     ...       ...\n",
       "2704  13538      CALI\n",
       "2705  13539     SEKER\n",
       "2706  13540     HOROZ\n",
       "2707  13541  DERMASON\n",
       "2708  13542      SIRA\n",
       "\n",
       "[2709 rows x 2 columns]"
      ]
     },
     "execution_count": 20,
     "metadata": {},
     "output_type": "execute_result"
    }
   ],
   "source": [
    "test_df[\"y\"] = model.predict(X_test)\n",
    "submission = test_df[[\"ID\", \"y\"]]\n",
    "submission"
   ]
  },
  {
   "cell_type": "code",
   "execution_count": 21,
   "id": "332c7746",
   "metadata": {
    "execution": {
     "iopub.execute_input": "2021-09-23T23:23:23.928559Z",
     "iopub.status.busy": "2021-09-23T23:23:23.927519Z",
     "iopub.status.idle": "2021-09-23T23:23:23.938369Z",
     "shell.execute_reply": "2021-09-23T23:23:23.938910Z",
     "shell.execute_reply.started": "2021-09-21T17:03:12.542382Z"
    },
    "papermill": {
     "duration": 0.047011,
     "end_time": "2021-09-23T23:23:23.939101",
     "exception": false,
     "start_time": "2021-09-23T23:23:23.892090",
     "status": "completed"
    },
    "tags": []
   },
   "outputs": [],
   "source": [
    "submission.to_csv('/kaggle/working/submission.csv', index=False)"
   ]
  },
  {
   "cell_type": "code",
   "execution_count": null,
   "id": "501f843b",
   "metadata": {
    "papermill": {
     "duration": 0.030885,
     "end_time": "2021-09-23T23:23:24.000947",
     "exception": false,
     "start_time": "2021-09-23T23:23:23.970062",
     "status": "completed"
    },
    "tags": []
   },
   "outputs": [],
   "source": []
  }
 ],
 "metadata": {
  "kernelspec": {
   "display_name": "Python 3",
   "language": "python",
   "name": "python3"
  },
  "language_info": {
   "codemirror_mode": {
    "name": "ipython",
    "version": 3
   },
   "file_extension": ".py",
   "mimetype": "text/x-python",
   "name": "python",
   "nbconvert_exporter": "python",
   "pygments_lexer": "ipython3",
   "version": "3.7.10"
  },
  "papermill": {
   "default_parameters": {},
   "duration": 18.82261,
   "end_time": "2021-09-23T23:23:25.648277",
   "environment_variables": {},
   "exception": null,
   "input_path": "__notebook__.ipynb",
   "output_path": "__notebook__.ipynb",
   "parameters": {},
   "start_time": "2021-09-23T23:23:06.825667",
   "version": "2.3.3"
  }
 },
 "nbformat": 4,
 "nbformat_minor": 5
}
